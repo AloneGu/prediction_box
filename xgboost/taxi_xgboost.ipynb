{
 "cells": [
  {
   "cell_type": "code",
   "execution_count": 8,
   "metadata": {
    "collapsed": false
   },
   "outputs": [
    {
     "name": "stdout",
     "output_type": "stream",
     "text": [
      "datetime64[ns] 10320\n",
      "(10320,)\n",
      "10320\n",
      "(10128, 192) (10128, 1)\n",
      "(9828, 192) (9828, 1) (300, 192) (300, 1)\n"
     ]
    },
    {
     "name": "stderr",
     "output_type": "stream",
     "text": [
      "/usr/local/lib/python2.7/dist-packages/sklearn/preprocessing/data.py:965: DeprecationWarning: Passing 1d arrays as data is deprecated in 0.17 and will raise ValueError in 0.19. Reshape your data either using X.reshape(-1, 1) if your data has a single feature or X.reshape(1, -1) if it contains a single sample.\n",
      "  warnings.warn(DEPRECATION_MSG_1D, DeprecationWarning)\n",
      "/usr/local/lib/python2.7/dist-packages/sklearn/preprocessing/data.py:987: DeprecationWarning: Passing 1d arrays as data is deprecated in 0.17 and will raise ValueError in 0.19. Reshape your data either using X.reshape(-1, 1) if your data has a single feature or X.reshape(1, -1) if it contains a single sample.\n",
      "  warnings.warn(DEPRECATION_MSG_1D, DeprecationWarning)\n",
      "/usr/local/lib/python2.7/dist-packages/sklearn/preprocessing/data.py:965: DeprecationWarning: Passing 1d arrays as data is deprecated in 0.17 and will raise ValueError in 0.19. Reshape your data either using X.reshape(-1, 1) if your data has a single feature or X.reshape(1, -1) if it contains a single sample.\n",
      "  warnings.warn(DEPRECATION_MSG_1D, DeprecationWarning)\n",
      "/usr/local/lib/python2.7/dist-packages/sklearn/preprocessing/data.py:1011: DeprecationWarning: Passing 1d arrays as data is deprecated in 0.17 and will raise ValueError in 0.19. Reshape your data either using X.reshape(-1, 1) if your data has a single feature or X.reshape(1, -1) if it contains a single sample.\n",
      "  warnings.warn(DEPRECATION_MSG_1D, DeprecationWarning)\n"
     ]
    }
   ],
   "source": [
    "import matplotlib.pyplot as plt\n",
    "import pandas as pd\n",
    "import numpy as np\n",
    "from sklearn.preprocessing import RobustScaler\n",
    "\n",
    "data = pd.read_csv('../data/nyc_taxi.csv')\n",
    "data['timestamp'] = pd.to_datetime(data['timestamp'])\n",
    "data.set_index('timestamp',inplace=True)\n",
    "\n",
    "print data.index.dtype,len(data)\n",
    "\n",
    "# use 4 days to predict 1 data\n",
    "WINDOW = 4*48\n",
    "def make_data(X, offset = WINDOW):\n",
    "    xs = []\n",
    "    ys = []\n",
    "    data_len = len(X)\n",
    "    print data_len\n",
    "    for i in range(data_len-offset):\n",
    "        start_idx = i\n",
    "        x = X[start_idx:start_idx+offset]\n",
    "        y = X[start_idx+offset:start_idx+1+offset]\n",
    "        xs.append(x)\n",
    "        ys.append(y)\n",
    "    return np.array(xs), np.array(ys)\n",
    "\n",
    "scaler = RobustScaler()\n",
    "daily_data = scaler.fit_transform(data.values.flatten())\n",
    "print daily_data.shape\n",
    "x,y = make_data(daily_data)\n",
    "print x.shape,y.shape\n",
    "\n",
    "def split_train_test(x, y, n):\n",
    "    x_train, x_test = x[0:-n], x[-n:]\n",
    "    y_train, y_test = y[0:-n], y[-n:]\n",
    "    return x_train, y_train, x_test, y_test\n",
    "\n",
    "X_train, Y_train, X_test, Y_test = split_train_test(x, y, 300)\n",
    "print X_train.shape, Y_train.shape, X_test.shape, Y_test.shape"
   ]
  },
  {
   "cell_type": "code",
   "execution_count": null,
   "metadata": {
    "collapsed": false
   },
   "outputs": [],
   "source": [
    "%matplotlib inline\n",
    "import matplotlib.pyplot as plt\n",
    "\n",
    "from xgboost import XGBRegressor\n",
    "\n",
    "xgb = XGBRegressor(max_depth=3,n_estimators=100,silent=False,reg_alpha=1)\n",
    "xgb.fit(X_train,Y_train)\n",
    "\n",
    "plt.figure(figsize=(20,10))\n",
    "pred = xgb.predict(X_test)\n",
    "truth = Y_test\n",
    "\n",
    "from sklearn import metrics\n",
    "print metrics.explained_variance_score(truth,pred)\n",
    "print metrics.r2_score(truth,pred)\n",
    "print metrics.mean_absolute_error(truth,pred),truth.mean(),truth.std()\n",
    "\n",
    "plt.figure(figsize=(20,10))\n",
    "plt.plot(pred,label='pred')\n",
    "plt.plot(truth,label='truth')\n",
    "plt.legend()\n",
    "\n",
    "pred = xgb.predict(X_train[20:50])\n",
    "truth = Y_train[20:50]\n",
    "print metrics.explained_variance_score(truth,pred)\n",
    "print metrics.r2_score(truth,pred)\n",
    "print metrics.mean_absolute_error(truth,pred),truth.mean(),truth.std()\n",
    "plt.figure(figsize=(20,10))\n",
    "plt.plot(pred,label='pred')\n",
    "plt.plot(truth,label='truth')\n",
    "plt.legend()\n",
    "plt.show()"
   ]
  }
 ],
 "metadata": {
  "kernelspec": {
   "display_name": "Python 2",
   "language": "python",
   "name": "python2"
  },
  "language_info": {
   "codemirror_mode": {
    "name": "ipython",
    "version": 2
   },
   "file_extension": ".py",
   "mimetype": "text/x-python",
   "name": "python",
   "nbconvert_exporter": "python",
   "pygments_lexer": "ipython2",
   "version": "2.7.6"
  }
 },
 "nbformat": 4,
 "nbformat_minor": 0
}
